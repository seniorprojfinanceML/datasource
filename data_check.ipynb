{
 "cells": [
  {
   "cell_type": "code",
   "execution_count": 11,
   "metadata": {},
   "outputs": [],
   "source": [
    "import psycopg2\n",
    "import pandas as pd\n",
    "import numpy as np\n",
    "from config import db_params\n",
    "from dotenv import load_dotenv\n",
    "import os\n",
    "import datetime"
   ]
  },
  {
   "cell_type": "code",
   "execution_count": 16,
   "metadata": {},
   "outputs": [],
   "source": [
    "# Specify the path to your db.env file\n",
    "env_path = './db.env'  # Adjust the path if your file is located elsewhere\n",
    "\n",
    "# Load the db.env file\n",
    "load_dotenv(dotenv_path=env_path)\n",
    "\n",
    "# Get database credentials from environment variables\n",
    "db_params = {\n",
    "    'dbname': os.getenv('DATABASE_DBNAME'),\n",
    "    'user': os.getenv('DATABASE_USERNAME'),\n",
    "    'password': os.getenv('DATABASE_PASSWORD'),\n",
    "    'host': os.getenv('DATABASE_HOST'),\n",
    "    'port': os.getenv('DATABASE_PORT')\n",
    "}"
   ]
  },
  {
   "cell_type": "code",
   "execution_count": 17,
   "metadata": {},
   "outputs": [
    {
     "name": "stdout",
     "output_type": "stream",
     "text": [
      "Connected to the database.\n"
     ]
    }
   ],
   "source": [
    "try:\n",
    "    # Connect to the PostgreSQL database\n",
    "    conn = psycopg2.connect(**db_params)\n",
    "    print(\"Connected to the database.\")\n",
    "    if conn is not None: conn.close()\n",
    "except Exception as e:\n",
    "    print(f\"Failed to connect to the database. Error: {e}\")"
   ]
  },
  {
   "cell_type": "code",
   "execution_count": null,
   "metadata": {},
   "outputs": [],
   "source": [
    "query = \"select time from crypto_ind_one where time >= '2024-01-01' and time < '2024-02-01' and currency = 'BTCUSDT' order by time desc;\""
   ]
  },
  {
   "cell_type": "code",
   "execution_count": null,
   "metadata": {},
   "outputs": [],
   "source": [
    "for i in range(0,32):\n",
    "    mdate = datetime.datetime(year=2024, month=1, day=1, hour=0, minute=0, second=0)\n",
    "    startDate = mdate + datetime.timedelta(days=i)\n",
    "    endDate = startDate + datetime.timedelta(days=1)\n",
    "    print(startDate, endDate)\n",
    "    query = f\"select count(*) from crypto_rounded where time >= '{startDate}' and time < '{endDate}' and currency = 'ETHUSDT';\"\n",
    "    with psycopg2.connect(**db_params) as conn:\n",
    "        # Query the database and load the data into a DataFrame\n",
    "        df = pd.read_sql_query(query, conn)\n",
    "    print(df[\"count\"].values)"
   ]
  },
  {
   "cell_type": "code",
   "execution_count": 43,
   "metadata": {},
   "outputs": [
    {
     "name": "stdout",
     "output_type": "stream",
     "text": [
      "2023-06-01 00:00:00 2024-01-01 00:00:00\n"
     ]
    },
    {
     "name": "stderr",
     "output_type": "stream",
     "text": [
      "C:\\Users\\super\\AppData\\Local\\Temp\\ipykernel_20388\\2607581020.py:9: UserWarning: pandas only supports SQLAlchemy connectable (engine/connection) or database string URI or sqlite3 DBAPI2 connection. Other DBAPI2 objects are not tested. Please consider using SQLAlchemy.\n",
      "  df = pd.read_sql_query(query, conn)\n"
     ]
    },
    {
     "name": "stdout",
     "output_type": "stream",
     "text": [
      "[308160]\n",
      "[308160]\n",
      "[308160]\n"
     ]
    }
   ],
   "source": [
    "startDate = datetime.datetime(year=2023, month=6, day=1, hour=0, minute=0, second=0)\n",
    "endDate = datetime.datetime(year=2024, month=1, day=1, hour=0, minute=0, second=0)\n",
    "print(startDate, endDate)\n",
    "cur_list = [\"BTCUSDT\", \"ADAUSDT\", \"ETHUSDT\"]\n",
    "for cur in cur_list:\n",
    "    query = f\"select count(*) from crypto_rounded where time >= '{startDate}' and time < '{endDate}' and currency = '{cur}';\"\n",
    "    with psycopg2.connect(**db_params) as conn:\n",
    "        # Query the database and load the data into a DataFrame\n",
    "        df = pd.read_sql_query(query, conn)\n",
    "    print(df[\"count\"].values)"
   ]
  },
  {
   "cell_type": "code",
   "execution_count": 46,
   "metadata": {},
   "outputs": [
    {
     "name": "stdout",
     "output_type": "stream",
     "text": [
      "2023-01-01 00:00:00 2023-06-01 00:00:00\n"
     ]
    },
    {
     "name": "stderr",
     "output_type": "stream",
     "text": [
      "C:\\Users\\super\\AppData\\Local\\Temp\\ipykernel_20388\\4103108002.py:9: UserWarning: pandas only supports SQLAlchemy connectable (engine/connection) or database string URI or sqlite3 DBAPI2 connection. Other DBAPI2 objects are not tested. Please consider using SQLAlchemy.\n",
      "  df = pd.read_sql_query(query, conn)\n"
     ]
    },
    {
     "name": "stdout",
     "output_type": "stream",
     "text": [
      "[217360]\n",
      "[0]\n",
      "[0]\n"
     ]
    }
   ],
   "source": [
    "startDate = datetime.datetime(year=2023, month=1, day=1, hour=0, minute=0, second=0)\n",
    "endDate = datetime.datetime(year=2023, month=6, day=1, hour=0, minute=0, second=0)\n",
    "print(startDate, endDate)\n",
    "cur_list = [\"BTCUSDT\", \"ADAUSDT\", \"ETHUSDT\"]\n",
    "for cur in cur_list:\n",
    "    query = f\"select count(*) from crypto_ind_one where time >= '{startDate}' and time < '{endDate}' and currency = '{cur}';\"\n",
    "    with psycopg2.connect(**db_params) as conn:\n",
    "        # Query the database and load the data into a DataFrame\n",
    "        df = pd.read_sql_query(query, conn)\n",
    "    print(df[\"count\"].values)"
   ]
  },
  {
   "cell_type": "code",
   "execution_count": 45,
   "metadata": {},
   "outputs": [
    {
     "name": "stdout",
     "output_type": "stream",
     "text": [
      "2022-01-01 00:00:00 2023-01-01 00:00:00\n"
     ]
    },
    {
     "name": "stderr",
     "output_type": "stream",
     "text": [
      "C:\\Users\\super\\AppData\\Local\\Temp\\ipykernel_20388\\660023482.py:9: UserWarning: pandas only supports SQLAlchemy connectable (engine/connection) or database string URI or sqlite3 DBAPI2 connection. Other DBAPI2 objects are not tested. Please consider using SQLAlchemy.\n",
      "  df = pd.read_sql_query(query, conn)\n"
     ]
    },
    {
     "name": "stdout",
     "output_type": "stream",
     "text": [
      "[525600]\n",
      "[525600]\n",
      "[525600]\n"
     ]
    }
   ],
   "source": [
    "startDate = datetime.datetime(year=2022, month=1, day=1, hour=0, minute=0, second=0)\n",
    "endDate = datetime.datetime(year=2023, month=1, day=1, hour=0, minute=0, second=0)\n",
    "print(startDate, endDate)\n",
    "cur_list = [\"BTCUSDT\", \"ADAUSDT\", \"ETHUSDT\"]\n",
    "for cur in cur_list:\n",
    "    query = f\"select count(*) from crypto_rounded where time >= '{startDate}' and time < '{endDate}' and currency = '{cur}';\"\n",
    "    with psycopg2.connect(**db_params) as conn:\n",
    "        # Query the database and load the data into a DataFrame\n",
    "        df = pd.read_sql_query(query, conn)\n",
    "    print(df[\"count\"].values)"
   ]
  }
 ],
 "metadata": {
  "kernelspec": {
   "display_name": "venv",
   "language": "python",
   "name": "python3"
  },
  "language_info": {
   "codemirror_mode": {
    "name": "ipython",
    "version": 3
   },
   "file_extension": ".py",
   "mimetype": "text/x-python",
   "name": "python",
   "nbconvert_exporter": "python",
   "pygments_lexer": "ipython3",
   "version": "3.10.5"
  }
 },
 "nbformat": 4,
 "nbformat_minor": 2
}
